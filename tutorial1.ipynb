{
 "cells": [
  {
   "cell_type": "code",
   "execution_count": 1,
   "metadata": {},
   "outputs": [],
   "source": [
    "#imports\n",
    "import numpy as np\n",
    "import pandas as pd\n",
    "import csv\n",
    "\n"
   ]
  },
  {
   "cell_type": "code",
   "execution_count": 56,
   "metadata": {},
   "outputs": [],
   "source": [
    "file_name = \"./Advertising.csv\"\n",
    "\n",
    "#initialise numpy arrays\n",
    "tv=np.array([])\n",
    "radio=np.array([])\n",
    "newsp=np.array([])\n",
    "sales=np.array([])"
   ]
  },
  {
   "cell_type": "code",
   "execution_count": 57,
   "metadata": {},
   "outputs": [],
   "source": [
    "# open the csv file and process the information to the arrays\n",
    "\n",
    "with open(file_name, mode='r') as file:\n",
    "    csv_reader = csv.reader(file)    \n",
    "    header = next(csv_reader)\n",
    "    for row in csv_reader:\n",
    "        tv=np.append(tv,float(row[1]))\n",
    "        radio=np.append(radio,float(row[2]))\n",
    "        newsp=np.append(newsp,float(row[3]))\n",
    "        sales=np.append(sales,float(row[4]))"
   ]
  },
  {
   "cell_type": "code",
   "execution_count": 58,
   "metadata": {},
   "outputs": [],
   "source": [
    "length=len(tv)\n",
    "assert len(tv)==len(radio)==len(newsp)==len(sales)\n"
   ]
  },
  {
   "cell_type": "code",
   "execution_count": 76,
   "metadata": {},
   "outputs": [
    {
     "name": "stdout",
     "output_type": "stream",
     "text": [
      "RSS 2102.5305996869242 \n",
      "RSE 3.2586563814799843 \n",
      "TSS 5417.14875 \n",
      "R2 0.6118750477939295 \n",
      "FS 312.1449903557713\n"
     ]
    }
   ],
   "source": [
    "tv_=np.mean(tv)\n",
    "sales_=np.mean(sales)\n",
    "\n",
    "beta1=(np.sum((tv-tv_)*(sales-sales_)))/ (np.sum((tv-tv_)**2))\n",
    "beta1=round(beta1,5)\n",
    "\n",
    "\n",
    "beta0=sales_-beta1*tv_\n",
    "beta0=round(beta0,5)\n",
    "\n",
    "# print(tv_,sales_,beta1,beta0)\n",
    "\n",
    "sales_pred=beta0+tv*beta1\n",
    "\n",
    "RSS=np.sum((sales-sales_pred)**2)\n",
    "\n",
    "RSE=np.sqrt((1/(length-2))*RSS)\n",
    "\n",
    "TSS=np.sum((sales-sales_)**2)\n",
    "\n",
    "R2=(TSS-RSS)/TSS\n",
    "p=1\n",
    "FS=((TSS-RSS)/p)/(RSS/(length-p-1))\n",
    "\n",
    "print(\"RSS\",RSS,\"\\nRSE\",RSE,\"\\nTSS\",TSS,\"\\nR2\",R2,\"\\nFS\",FS)\n"
   ]
  },
  {
   "cell_type": "code",
   "execution_count": 78,
   "metadata": {},
   "outputs": [
    {
     "name": "stdout",
     "output_type": "stream",
     "text": [
      "RSS 3618.479549805 \n",
      "RSE 4.274944355361763 \n",
      "TSS 5417.14875 \n",
      "R2 0.3320324553013244 \n",
      "FS 98.42158750290638\n"
     ]
    }
   ],
   "source": [
    "radio_=np.mean(radio)\n",
    "sales_=np.mean(sales)\n",
    "\n",
    "beta1=(np.sum((radio-radio_)*(sales-sales_)))/ (np.sum((radio-radio_)**2))\n",
    "beta1=round(beta1,5)\n",
    "\n",
    "\n",
    "beta0=sales_-beta1*radio_\n",
    "beta0=round(beta0,5)\n",
    "\n",
    "# print(radio_,sales_,beta1,beta0)\n",
    "\n",
    "sales_pred=beta0+radio*beta1\n",
    "\n",
    "RSS=np.sum((sales-sales_pred)**2)\n",
    "\n",
    "RSE=np.sqrt((1/(length-2))*RSS)\n",
    "\n",
    "TSS=np.sum((sales-sales_)**2)\n",
    "\n",
    "R2=(TSS-RSS)/TSS\n",
    "p=1\n",
    "FS=((TSS-RSS)/p)/(RSS/(length-p-1))\n",
    "\n",
    "print(\"RSS\",RSS,\"\\nRSE\",RSE,\"\\nTSS\",TSS,\"\\nR2\",R2,\"\\nFS\",FS)"
   ]
  },
  {
   "cell_type": "code",
   "execution_count": 77,
   "metadata": {},
   "outputs": [
    {
     "name": "stdout",
     "output_type": "stream",
     "text": [
      "RSS 5134.804545018714 \n",
      "RSE 5.092480366969843 \n",
      "TSS 5417.14875 \n",
      "R2 0.05212044527691556 \n",
      "FS 10.887299038583173\n"
     ]
    }
   ],
   "source": [
    "newsp_=np.mean(newsp)\n",
    "sales_=np.mean(sales)\n",
    "\n",
    "beta1=(np.sum((newsp-newsp_)*(sales-sales_)))/ (np.sum((newsp-newsp_)**2))\n",
    "beta1=round(beta1,5)\n",
    "\n",
    "\n",
    "beta0=sales_-beta1*newsp_\n",
    "beta0=round(beta0,5)\n",
    "\n",
    "# print(newsp_,sales_,beta1,beta0)\n",
    "\n",
    "sales_pred=beta0+newsp*beta1\n",
    "\n",
    "RSS=np.sum((sales-sales_pred)**2)\n",
    "\n",
    "RSE=np.sqrt((1/(length-2))*RSS)\n",
    "\n",
    "TSS=np.sum((sales-sales_)**2)\n",
    "\n",
    "R2=(TSS-RSS)/TSS\n",
    "p=1\n",
    "FS=((TSS-RSS)/p)/(RSS/(length-p-1))\n",
    "\n",
    "print(\"RSS\",RSS,\"\\nRSE\",RSE,\"\\nTSS\",TSS,\"\\nR2\",R2,\"\\nFS\",FS)"
   ]
  }
 ],
 "metadata": {
  "kernelspec": {
   "display_name": "Python 3",
   "language": "python",
   "name": "python3"
  },
  "language_info": {
   "codemirror_mode": {
    "name": "ipython",
    "version": 3
   },
   "file_extension": ".py",
   "mimetype": "text/x-python",
   "name": "python",
   "nbconvert_exporter": "python",
   "pygments_lexer": "ipython3",
   "version": "3.12.5"
  }
 },
 "nbformat": 4,
 "nbformat_minor": 2
}
