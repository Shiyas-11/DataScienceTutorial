{
 "cells": [
  {
   "cell_type": "code",
   "execution_count": 1,
   "metadata": {},
   "outputs": [],
   "source": [
    "import numpy as np\n",
    "from sklearn.datasets import make_regression\n",
    "from sklearn.tree import DecisionTreeRegressor\n",
    "from sklearn.model_selection import train_test_split"
   ]
  },
  {
   "cell_type": "code",
   "execution_count": 3,
   "metadata": {},
   "outputs": [],
   "source": [
    "#constants?\n",
    "num_trees = 20  \n",
    "tree_models = []"
   ]
  },
  {
   "cell_type": "code",
   "execution_count": 4,
   "metadata": {},
   "outputs": [],
   "source": [
    "X, y = make_regression(n_samples=1000, n_features=5, noise=0.1, random_state=42)\n",
    "\n",
    "# extract test and training data\n",
    "X_train, X_test, y_train, y_test = train_test_split(X, y, test_size=0.2, random_state=42)\n",
    "\n",
    "#well initializing with zeroes ig\n",
    "predictions = np.zeros((X_test.shape[0], num_trees))\n"
   ]
  },
  {
   "cell_type": "code",
   "execution_count": 5,
   "metadata": {},
   "outputs": [],
   "source": [
    "# tree training loop\n",
    "for i in range(num_trees):\n",
    "    # sampling with random you know\n",
    "    idx = np.random.choice(len(X_train), len(X_train), replace=True)\n",
    "    X_sample, y_sample = X_train[idx], y_train[idx]\n",
    "    \n",
    "    # Training the Tree hope the tree just trees\n",
    "    tree = DecisionTreeRegressor(max_depth=5, random_state=i)\n",
    "    tree.fit(X_sample, y_sample)\n",
    "    \n",
    "    # Store the model with its predictions\n",
    "    tree_models.append(tree)\n",
    "    predictions[:, i] = tree.predict(X_test)"
   ]
  },
  {
   "cell_type": "code",
   "execution_count": 6,
   "metadata": {},
   "outputs": [],
   "source": [
    "final_predictions = np.mean(predictions, axis=1)\n",
    "#so we took our mean"
   ]
  },
  {
   "cell_type": "code",
   "execution_count": 7,
   "metadata": {},
   "outputs": [
    {
     "name": "stdout",
     "output_type": "stream",
     "text": [
      "yayy Predicted Values: [-3.81444797e+01 -6.56403352e+01  6.75269070e+01 -1.79295135e+01\n",
      "  7.37490382e+01  2.49571249e+01 -1.08828241e+01 -6.33583743e+01\n",
      "  5.41400501e+01 -8.44594435e+01  3.56875986e+01 -9.11944940e+01\n",
      "  6.80964027e+01  4.09370346e+01  1.87469322e+01 -6.23208789e+00\n",
      "  2.23149470e+01  2.50225855e+01  5.23035307e+01 -1.92324124e+01\n",
      "  5.61331424e+01 -9.45637420e+00 -1.27882031e+01  1.67287952e+01\n",
      " -7.08431146e+01  4.13443861e+01  2.04389577e+01 -4.17460090e+01\n",
      "  6.89737964e+01  2.90991503e+00  4.69698181e+01 -8.01234161e+00\n",
      "  2.28140430e+00  2.74775850e+01 -2.83819307e+01  4.65746191e+01\n",
      " -1.75247109e+01 -1.37943834e+01 -3.76179684e+01 -4.81618723e+01\n",
      "  3.82581950e+01 -4.35011591e+01  5.05652833e+01  2.87221244e+00\n",
      "  6.65455971e+01  6.63457345e+01  1.37310830e+01 -7.34153662e+01\n",
      " -4.73547190e+01 -5.31914494e+01  5.90480533e+01  5.16498412e+01\n",
      "  1.47988289e+01 -6.77281504e+01  2.43564144e+01 -5.72440862e+01\n",
      "  9.80200962e+01 -9.84558082e+00 -7.76023750e+01 -2.59865538e+01\n",
      " -8.38017482e+01 -8.98419654e+01  5.28335128e+01 -2.17572801e+01\n",
      "  2.71566198e+01 -7.61833776e+01  3.82296613e+01 -5.19884474e+01\n",
      " -3.34690223e+01 -6.33529027e+01  1.35537589e+01  3.08265246e+01\n",
      " -6.97094266e+01  5.97352392e+01  4.79094488e+01  9.43029872e+01\n",
      " -3.69846519e+01  8.63969044e+01 -7.51009189e+01 -7.79646743e+00\n",
      "  5.21646352e-01 -1.11897386e+01  3.60821149e+01 -1.43844261e+01\n",
      "  1.89385460e+01 -1.18627949e+02  2.33127642e+00  5.81230493e+01\n",
      " -7.76393060e+01 -7.64853638e+00  6.49403817e+00  3.06488129e+01\n",
      " -8.38249060e+00 -4.79659838e+01  1.12761662e+02  3.79001817e+01\n",
      "  1.96860051e+01  6.77863371e+01 -3.79974686e+01 -2.36546527e+00\n",
      "  4.95627105e+00  5.43590625e+01 -4.18675029e+01  4.14332780e+01\n",
      " -2.17704823e+01 -6.97149528e+01  5.56663389e+01  8.37446395e+01\n",
      " -5.28107014e+01 -7.20187416e+00  8.03877257e+01  4.86102575e+01\n",
      " -5.31754481e+01 -3.59772205e+01  5.52029433e+00  7.70703850e+01\n",
      " -9.17870372e-01 -6.84712291e+00  2.33597136e+01 -2.16619245e+01\n",
      "  4.69698181e+01 -8.17640993e+01  2.88121821e+01  6.98110109e+01\n",
      " -3.94316673e+01 -1.28994883e+01 -3.74183697e+01  9.26809735e+01\n",
      " -7.79652560e+00 -9.08137028e+00 -4.73426274e+01 -2.73748875e+01\n",
      "  3.45407386e+00 -2.57926799e+01 -4.18621670e+01  2.08148977e+01\n",
      " -5.50565414e+01 -4.84569701e+01  4.08634682e+01 -6.20013745e+01\n",
      " -7.33278066e+01  3.96695137e+01  6.82648922e+01 -2.95620974e+01\n",
      "  1.32608647e+01 -5.44974390e+01 -3.08338442e+01 -8.32743407e+01\n",
      " -7.06436412e+01 -2.80041908e+01  1.87745246e+01  5.52890701e+01\n",
      "  6.84621431e+01  4.00673914e+01 -5.32559743e+01  1.62199508e+01\n",
      "  7.88591921e+01 -5.54970057e+00  9.08899383e+01 -9.58235715e+00\n",
      " -1.44976106e+00  2.01000764e+00 -8.96888658e+00  2.21168117e+01\n",
      " -3.71958432e+01  3.19713750e+01  5.18690069e+01  1.36435461e+01\n",
      " -4.28326268e+01 -2.13928017e+01  7.21035039e+01  2.22545502e+01\n",
      " -7.95136042e+01 -3.72679767e+01  3.84474749e+01 -4.07663518e+01\n",
      "  7.30180652e+01  3.63764847e+01  8.72810829e-02  4.67328329e+01\n",
      " -1.08215190e+02  3.63026677e+01 -1.51980341e+01  2.62205909e+01\n",
      " -7.49266990e+01 -7.74031360e+01  4.43633573e+01 -2.49728935e+00\n",
      " -1.42101160e+01 -3.86886709e+01 -6.44652070e+01 -5.73860132e+01\n",
      " -1.09578514e+02 -5.30069249e+01  6.80310705e+01  4.51450236e+00\n",
      " -1.06415563e+01  2.52159740e+01 -4.02891095e+01  1.94808405e+01]\n"
     ]
    }
   ],
   "source": [
    "print(\"yayy Predicted Values:\", final_predictions)"
   ]
  }
 ],
 "metadata": {
  "kernelspec": {
   "display_name": "Python 3",
   "language": "python",
   "name": "python3"
  },
  "language_info": {
   "codemirror_mode": {
    "name": "ipython",
    "version": 3
   },
   "file_extension": ".py",
   "mimetype": "text/x-python",
   "name": "python",
   "nbconvert_exporter": "python",
   "pygments_lexer": "ipython3",
   "version": "3.12.5"
  }
 },
 "nbformat": 4,
 "nbformat_minor": 2
}
