{
 "cells": [
  {
   "cell_type": "code",
   "execution_count": null,
   "metadata": {},
   "outputs": [],
   "source": [
    "import numpy as np\n",
    "from sklearn.datasets import make_regression\n",
    "from sklearn.tree import DecisionTreeRegressor\n",
    "from sklearn.model_selection import train_test_split"
   ]
  },
  {
   "cell_type": "code",
   "execution_count": null,
   "metadata": {},
   "outputs": [],
   "source": [
    "#constants?\n",
    "num_trees = 20  \n",
    "tree_models = []"
   ]
  },
  {
   "cell_type": "code",
   "execution_count": null,
   "metadata": {},
   "outputs": [],
   "source": [
    "X, y = make_regression(n_samples=1000, n_features=5, noise=0.1, random_state=42)\n",
    "\n",
    "# extract test and training data\n",
    "X_train, X_test, y_train, y_test = train_test_split(X, y, test_size=0.2, random_state=42)\n",
    "\n",
    "#well initializing with zeroes ig\n",
    "predictions = np.zeros((X_test.shape[0], num_trees))\n"
   ]
  },
  {
   "cell_type": "code",
   "execution_count": null,
   "metadata": {},
   "outputs": [],
   "source": [
    "# tree training loop\n",
    "for i in range(num_trees):\n",
    "    # sampling with random you know\n",
    "    idx = np.random.choice(len(X_train), len(X_train), replace=True)\n",
    "    X_sample, y_sample = X_train[idx], y_train[idx]\n",
    "    \n",
    "    # Training the Tree hope the tree just trees\n",
    "    tree = DecisionTreeRegressor(max_depth=5, random_state=i)\n",
    "    tree.fit(X_sample, y_sample)\n",
    "    \n",
    "    # Store the model with its predictions\n",
    "    tree_models.append(tree)\n",
    "    predictions[:, i] = tree.predict(X_test)"
   ]
  },
  {
   "cell_type": "code",
   "execution_count": null,
   "metadata": {},
   "outputs": [],
   "source": [
    "final_predictions = np.mean(predictions, axis=1)\n",
    "#so we took our mean"
   ]
  },
  {
   "cell_type": "code",
   "execution_count": null,
   "metadata": {},
   "outputs": [],
   "source": [
    "print(\"yayy Predicted Values:\", final_predictions)"
   ]
  }
 ],
 "metadata": {
  "kernelspec": {
   "display_name": "Python 3",
   "language": "python",
   "name": "python3"
  },
  "language_info": {
   "codemirror_mode": {
    "name": "ipython",
    "version": 3
   },
   "file_extension": ".py",
   "mimetype": "text/x-python",
   "name": "python",
   "nbconvert_exporter": "python",
   "pygments_lexer": "ipython3",
   "version": "3.12.5"
  }
 },
 "nbformat": 4,
 "nbformat_minor": 2
}
