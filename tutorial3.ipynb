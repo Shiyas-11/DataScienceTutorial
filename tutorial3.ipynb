{
 "cells": [
  {
   "cell_type": "code",
   "execution_count": 14,
   "metadata": {},
   "outputs": [
    {
     "name": "stdout",
     "output_type": "stream",
     "text": [
      "LDA Transformed Data: [[-2.52982213]\n",
      " [ 1.26491106]\n",
      " [-0.63245553]\n",
      " [ 1.8973666 ]]\n"
     ]
    }
   ],
   "source": [
    "#with lib functions\n",
    "\n",
    "import numpy as np\n",
    "from sklearn.discriminant_analysis import LinearDiscriminantAnalysis\n",
    "\n",
    "# Sample 2x2 dataset\n",
    "X = np.array([[2, 3], [3, 4], [2.5, 3.5], [3.2, 4.1]]) \n",
    "y = np.array([0, 1, 0, 1])\n",
    "\n",
    "\n",
    "\n",
    "lda = LinearDiscriminantAnalysis(n_components=1)\n",
    "X_lda = lda.fit_transform(X, y)\n",
    "\n",
    "print(\"LDA Transformed Data:\", X_lda)"
   ]
  },
  {
   "cell_type": "code",
   "execution_count": null,
   "metadata": {},
   "outputs": [
    {
     "name": "stdout",
     "output_type": "stream",
     "text": [
      "LDA Transformed Data: [3.13049517 4.47213595 3.80131556 4.69574275]\n"
     ]
    }
   ],
   "source": [
    "import numpy as np\n",
    "\n",
    "# Sample 2x2 dataset\n",
    "X = np.array([[2, 3], [3, 4], [2.5, 3.5], [3.2, 4.1]]) \n",
    "y = np.array([0, 1, 0, 1])\n",
    "\n",
    "\n",
    "\n",
    "mean_0 = np.mean(X[y == 0], axis=0)  # Mean of class 0\n",
    "mean_1 = np.mean(X[y == 1], axis=0)  # Mean of class 1\n",
    "overall_mean = np.mean(X, axis=0)\n",
    "\n",
    "\n",
    "S_w = np.cov(X.T)  \n",
    "S_b = np.outer((mean_1 - mean_0), (mean_1 - mean_0))  #\n",
    "\n",
    "\n",
    "eigvals, eigvecs = np.linalg.eig(np.linalg.inv(S_w).dot(S_b))\n",
    "\n",
    "\n",
    "lda_vector = eigvecs[:, np.argmax(eigvals)]\n",
    "\n",
    "X_lda = X.dot(lda_vector)\n",
    "\n",
    "print(\"LDA Transformed Data:\", X_lda)"
   ]
  }
 ],
 "metadata": {
  "kernelspec": {
   "display_name": "Python 3",
   "language": "python",
   "name": "python3"
  },
  "language_info": {
   "codemirror_mode": {
    "name": "ipython",
    "version": 3
   },
   "file_extension": ".py",
   "mimetype": "text/x-python",
   "name": "python",
   "nbconvert_exporter": "python",
   "pygments_lexer": "ipython3",
   "version": "3.12.5"
  }
 },
 "nbformat": 4,
 "nbformat_minor": 2
}
